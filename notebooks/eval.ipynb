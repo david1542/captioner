{
 "cells": [
  {
   "cell_type": "code",
   "execution_count": null,
   "outputs": [],
   "source": [
    "%reload_ext autoreload\n",
    "%autoreload 2"
   ],
   "metadata": {
    "collapsed": false,
    "pycharm": {
     "name": "#%%\n"
    }
   }
  },
  {
   "cell_type": "code",
   "execution_count": 79,
   "metadata": {
    "collapsed": true,
    "pycharm": {
     "name": "#%%\n"
    }
   },
   "outputs": [],
   "source": [
    "from utils.datasets import CaptionsDataModule\n",
    "from models.collection.basic_decoder import BasicDecoder\n",
    "from models.dispatcher import models\n",
    "from utils.vocab import get_vocabulary\n",
    "from utils.data import get_embedding_size\n",
    "\n",
    "fold = 0\n",
    "embedding_size = get_embedding_size()\n",
    "vocabulary = get_vocabulary(fold=0)\n",
    "model = BasicDecoder(vocabulary=get_vocabulary(fold=0), image_emb_size=embedding_size)\n",
    "\n",
    "datamodule = CaptionsDataModule(fold=fold, vocabulary=vocabulary, batch_size=16)\n",
    "datamodule.setup()"
   ]
  },
  {
   "cell_type": "code",
   "execution_count": 109,
   "outputs": [
    {
     "data": {
      "text/plain": "['system dinner dinner dinner pinned pinned sailor sailor sailor shabby plugging video video fireplug colliding beetle armstand hate carry bun',\n 'dinner photographers dinner dinner caches caches caches speaks becomes ran fishi view frightened chased binoculars hotel jogger continues video video',\n 'paddles paddles heavily drap drap dalmatian road rover backya trench toy jewish bent grimaces skilift receives flamboyantly watchi nurses discuss',\n 'plastic struggling struggling assemble becomes torn smell cellphone region belt pinata racers headfirst accented gesturing visitor strap pace darkened puckering',\n 'pincer pincer pincer sprawling ghostbusters question cave laceup reach drak cluster hanging glacier pajama pajama skating trench rockets outsi hangong',\n 'pincer dinner dinner handlebars conference repels harmonica speaks becomes accented inground gesturing visitor strap lining lap handed super marks trumped',\n 'snacks snacks swim clad daughter glacier sanda shutters po berets headwear armstand hooping threeway buildings cloud flickr smili wodden powdery',\n 'plastic wav caches caches caches speaks becomes accented inground gesturing visitor strap lining lap handed super marks trumped jersy ladle',\n 'dinner dinner dinner crashes dinner schoolyard coat tugofw sunbathing driveway helmets thermos measured seating woo breaking martial underpass owner lie',\n 'lecture lecture guns ca automobiles hats individual pair kay shabby retrievers ya sunhat wrapped reson better car away boating bathtub',\n 'grand drenched chained glow danci blondhair ankle trainer courthouse untouched surfboarder slo rails formed bent villages blown cine swimsuits showing',\n 'grand chained paddles sho sprawled subway queue them gymnastic video super nd pace braided heap ran step fishi rolledup rolledup',\n 'someo someo jumpinjg chained lecture stumbling casterol kildare spouse racers pine headfirst fancily note scruffy scruffy ladles armstand headban level',\n 'tripods tripods tophats highfives highfives shag pouch pillows buggies landsca mart guards bluegreen teacher antiquated scruffy scruffy ladles armstand headban',\n 'dinner dinner heavily dinner stuntle pinned seesaw first claus urge mottled brige surfing flips jaw limegreen magic punk amplifier snake',\n 'snacks goalie snacks reflects photographers bandan aids ankle trainer courthouse untouched casually circus powder canooers villages racetra dominant doorbell fours']"
     },
     "execution_count": 109,
     "metadata": {},
     "output_type": "execute_result"
    }
   ],
   "source": [
    "from torch.utils import data\n",
    "from utils.datasets import Collector\n",
    "\n",
    "from utils.datasets import CaptionsDataset\n",
    "from utils.data import load_captions\n",
    "\n",
    "captions = load_captions()\n",
    "dataset = CaptionsDataset(captions)\n",
    "\n",
    "collector = Collector(vocabulary=vocabulary)\n",
    "dataloader = data.DataLoader(dataset=dataset, batch_size=16,\n",
    "                             shuffle=True, collate_fn=collector.collect)\n",
    "\n",
    "embeddings, captions, image_ids = next(iter(dataloader))\n",
    "\n",
    "model.predict(embeddings)"
   ],
   "metadata": {
    "collapsed": false,
    "pycharm": {
     "name": "#%%\n"
    }
   }
  },
  {
   "cell_type": "code",
   "execution_count": 125,
   "outputs": [
    {
     "data": {
      "text/plain": "[0.08781965006729477,\n 4.4204661250595135e-155,\n 1.2344803162796128e-185,\n 9.91759225683731e-232]"
     },
     "execution_count": 125,
     "metadata": {},
     "output_type": "execute_result"
    }
   ],
   "source": [
    "from utils.evaluate import evaluate_model\n",
    "\n",
    "evaluate_model(model, embeddings, captions, vocabulary)"
   ],
   "metadata": {
    "collapsed": false,
    "pycharm": {
     "name": "#%%\n"
    }
   }
  }
 ],
 "metadata": {
  "kernelspec": {
   "display_name": "Python 3",
   "language": "python",
   "name": "python3"
  },
  "language_info": {
   "codemirror_mode": {
    "name": "ipython",
    "version": 2
   },
   "file_extension": ".py",
   "mimetype": "text/x-python",
   "name": "python",
   "nbconvert_exporter": "python",
   "pygments_lexer": "ipython2",
   "version": "2.7.6"
  }
 },
 "nbformat": 4,
 "nbformat_minor": 0
}