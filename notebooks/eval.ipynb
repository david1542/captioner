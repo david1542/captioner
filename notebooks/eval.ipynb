{
 "cells": [
  {
   "cell_type": "code",
   "execution_count": 2,
   "outputs": [],
   "source": [
    "%reload_ext autoreload\n",
    "%autoreload 2"
   ],
   "metadata": {
    "collapsed": false,
    "pycharm": {
     "name": "#%%\n"
    }
   }
  },
  {
   "cell_type": "code",
   "execution_count": 3,
   "metadata": {
    "collapsed": true,
    "pycharm": {
     "name": "#%%\n"
    }
   },
   "outputs": [],
   "source": [
    "from utils.datasets import CaptionsDataModule\n",
    "from models.collection.basic_decoder import BasicDecoder\n",
    "from utils.vocab import get_vocabulary\n",
    "from utils.data import get_embedding_size\n",
    "\n",
    "fold = 0\n",
    "embedding_size = get_embedding_size()\n",
    "vocabulary = get_vocabulary(fold=0)\n",
    "model = BasicDecoder(vocabulary=get_vocabulary(fold=0), image_emb_size=embedding_size)\n",
    "\n",
    "datamodule = CaptionsDataModule(fold=fold, vocabulary=vocabulary, batch_size=16)\n",
    "datamodule.setup()"
   ]
  },
  {
   "cell_type": "code",
   "execution_count": 30,
   "outputs": [],
   "source": [
    "from torch.utils import data\n",
    "from utils.datasets import Collector\n",
    "\n",
    "from utils.datasets import CaptionsDataset\n",
    "from utils.data import load_captions\n",
    "\n",
    "captions = load_captions()\n",
    "dataset = CaptionsDataset(captions)\n",
    "\n",
    "collector = Collector(vocabulary=vocabulary)\n",
    "dataloader = data.DataLoader(dataset=dataset, batch_size=16,\n",
    "                             shuffle=True, collate_fn=collector.collect)"
   ],
   "metadata": {
    "collapsed": false,
    "pycharm": {
     "name": "#%%\n"
    }
   }
  }
 ],
 "metadata": {
  "kernelspec": {
   "display_name": "Python 3",
   "language": "python",
   "name": "python3"
  },
  "language_info": {
   "codemirror_mode": {
    "name": "ipython",
    "version": 2
   },
   "file_extension": ".py",
   "mimetype": "text/x-python",
   "name": "python",
   "nbconvert_exporter": "python",
   "pygments_lexer": "ipython2",
   "version": "2.7.6"
  }
 },
 "nbformat": 4,
 "nbformat_minor": 0
}