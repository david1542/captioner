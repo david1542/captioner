{
 "cells": [
  {
   "cell_type": "code",
   "execution_count": 2,
   "outputs": [],
   "source": [
    "%reload_ext autoreload\n",
    "%autoreload 2"
   ],
   "metadata": {
    "collapsed": false,
    "pycharm": {
     "name": "#%%\n"
    }
   }
  },
  {
   "cell_type": "code",
   "execution_count": 3,
   "metadata": {
    "collapsed": true,
    "pycharm": {
     "name": "#%%\n"
    }
   },
   "outputs": [],
   "source": [
    "from utils.datasets import CaptionsDataModule\n",
    "from models.collection.basic_decoder import BasicDecoder\n",
    "from utils.vocab import get_vocabulary\n",
    "from utils.data import get_embedding_size\n",
    "\n",
    "fold = 0\n",
    "embedding_size = get_embedding_size()\n",
    "vocabulary = get_vocabulary(fold=0)\n",
    "model = BasicDecoder(vocabulary=get_vocabulary(fold=0), image_emb_size=embedding_size)\n",
    "\n",
    "datamodule = CaptionsDataModule(fold=fold, vocabulary=vocabulary, batch_size=16)\n",
    "datamodule.setup()"
   ]
  },
  {
   "cell_type": "code",
   "execution_count": 30,
   "outputs": [],
   "source": [
    "from torch.utils import data\n",
    "from utils.datasets import Collector\n",
    "\n",
    "from utils.datasets import CaptionsDataset\n",
    "from utils.data import load_captions\n",
    "\n",
    "captions = load_captions()\n",
    "dataset = CaptionsDataset(captions)\n",
    "\n",
    "collector = Collector(vocabulary=vocabulary)\n",
    "dataloader = data.DataLoader(dataset=dataset, batch_size=16,\n",
    "                             shuffle=True, collate_fn=collector.collect)"
   ],
   "metadata": {
    "collapsed": false,
    "pycharm": {
     "name": "#%%\n"
    }
   }
  },
  {
   "cell_type": "code",
   "execution_count": 48,
   "outputs": [
    {
     "data": {
      "text/plain": "tensor([[ 1.0275, -0.1107,  0.4562, -1.1570, -0.5022, -1.6945, -0.7881, -0.2676,\n         -0.8820,  1.1906,  0.4254, -0.0000, -0.0575,  0.4446,  0.7657,  1.5210],\n        [ 0.2827, -0.0000, -0.1286,  1.8288,  1.2881, -2.4986,  0.7297, -0.0000,\n         -2.3055, -1.8563,  0.7047,  0.6513, -0.6875,  0.3294,  0.3731, -0.0000],\n        [ 2.1249, -2.3265, -1.4309, -0.6903,  2.8479,  0.6770, -0.0000,  0.0000,\n          0.7185, -0.6330,  0.6461, -0.0459, -0.4408,  1.1396,  0.7838,  0.4858],\n        [ 0.0000, -3.9875, -0.0485, -1.4929, -0.0000,  0.6092,  0.6484, -1.5514,\n          1.1322,  0.2408,  0.1888, -0.0000, -0.7396,  0.1155,  0.0000,  1.8324],\n        [-1.8159,  0.8874, -1.0989, -0.1454, -1.5224,  0.0000, -1.3522,  0.1831,\n         -0.3573,  0.0000,  1.9780, -0.3065, -2.3973, -0.7088, -0.0000,  0.5843],\n        [-1.0801, -0.0000, -3.3464, -1.3941, -0.0000, -1.1760, -0.5109,  0.9087,\n         -0.0000, -1.3039, -0.7453,  0.0000,  1.4403, -0.0000, -1.0230,  0.0000],\n        [ 0.9557, -1.7541,  0.0000,  0.3863,  1.3056,  0.1321,  1.3382,  2.5625,\n          0.2918, -0.8610, -0.0000,  0.6431, -0.0000,  1.0700,  0.0000, -0.8805],\n        [ 0.4673,  1.4649,  1.9175,  0.0000, -0.4184,  2.5420, -0.1182,  1.3599,\n         -2.1638, -0.0000, -0.8505, -0.0000,  0.2070, -0.0000,  0.7501, -1.2584],\n        [ 2.6113, -3.3264, -0.8803, -0.6147,  0.0000,  0.6382, -0.0000,  0.0422,\n          1.3956,  0.2020, -2.6660,  0.2682, -0.0910,  0.0000, -2.0611,  1.0303],\n        [-1.1209,  0.0000,  0.0000,  0.0000,  1.0958, -0.2057, -1.5999,  0.9644,\n          0.0000, -1.0357, -0.4054, -1.6452, -1.4427,  1.5513, -0.7885,  0.0000],\n        [ 0.2452,  3.0243,  0.5841,  1.2539, -0.3351, -1.8137, -0.7650,  0.0000,\n          0.0382, -1.7736,  0.6383, -1.6698, -0.0000,  0.0000,  0.4096, -0.8580],\n        [-1.3672,  0.9680, -2.9221,  0.0812,  2.4869, -2.4848, -0.2891,  1.0120,\n          0.8056,  0.6699,  0.0000,  1.0348,  0.2857, -1.3350, -0.0733,  0.4968],\n        [ 2.0233,  0.0000,  0.3522, -0.0000,  1.2501, -0.2043,  0.4137, -0.0000,\n         -0.0000,  0.0000, -0.2583, -1.2597,  0.0000, -0.0000,  0.0000, -0.4783],\n        [ 2.0161,  0.2038,  0.2512,  0.0000, -1.4337,  1.1466, -1.2494,  0.3427,\n         -0.2762, -0.2152, -1.3107, -0.2326,  0.7841,  2.2065, -1.5969,  0.6003],\n        [ 0.0000,  0.0000, -1.6825,  0.4799, -0.7507, -0.8887,  0.7285, -0.1184,\n         -1.0252,  0.1578,  2.3194, -0.4220, -0.0000, -0.1468,  1.2754, -0.6334],\n        [-0.0000,  0.0000, -0.0000,  0.0071, -0.0658, -0.3845,  0.8356, -0.8655,\n         -1.4015,  0.0000,  0.7409, -1.1674,  0.1217, -0.0324,  0.0000, -0.0000],\n        [-0.7085,  0.1622,  0.0000,  0.0000,  0.5273,  0.0000,  1.0620,  0.0000,\n          0.8302, -0.9255, -0.0000, -1.4147,  0.0000, -1.2739, -1.9134,  0.0000],\n        [-0.5048,  1.7833,  0.2030, -0.7486,  1.8236,  1.9873,  0.1214, -2.3572,\n          2.0750, -1.1988,  1.0776, -0.6219,  0.3923,  0.9209,  1.4033, -1.4495],\n        [-0.2402, -0.7338,  1.0751,  0.0000,  0.0756, -1.1277, -0.0000, -1.9440,\n          0.5497,  2.1974,  1.3882, -0.2003,  0.0368,  1.9771, -0.5237,  0.7470],\n        [ 0.8025,  2.2624,  1.2286,  0.2745,  1.6455, -0.0000,  1.8464, -1.2652,\n          0.0000, -1.4650, -0.4845,  0.7239, -1.8371,  1.9895, -0.1653,  0.2007]])"
     },
     "execution_count": 48,
     "metadata": {},
     "output_type": "execute_result"
    }
   ],
   "source": [
    "import torch\n",
    "import torch.nn as nn\n",
    "\n",
    "m = nn.Dropout(p=0.2)\n",
    "input = torch.randn(20, 16)\n",
    "output = m(input)\n",
    "\n",
    "output"
   ],
   "metadata": {
    "collapsed": false,
    "pycharm": {
     "name": "#%%\n"
    }
   }
  },
  {
   "cell_type": "code",
   "execution_count": null,
   "outputs": [],
   "source": [],
   "metadata": {
    "collapsed": false,
    "pycharm": {
     "name": "#%%\n"
    }
   }
  }
 ],
 "metadata": {
  "kernelspec": {
   "display_name": "Python 3",
   "language": "python",
   "name": "python3"
  },
  "language_info": {
   "codemirror_mode": {
    "name": "ipython",
    "version": 2
   },
   "file_extension": ".py",
   "mimetype": "text/x-python",
   "name": "python",
   "nbconvert_exporter": "python",
   "pygments_lexer": "ipython2",
   "version": "2.7.6"
  }
 },
 "nbformat": 4,
 "nbformat_minor": 0
}